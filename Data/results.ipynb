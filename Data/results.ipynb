{
 "cells": [
  {
   "cell_type": "code",
   "execution_count": 1,
   "id": "2857c8d4-dde7-48d2-8f76-a549d67c3f07",
   "metadata": {},
   "outputs": [],
   "source": [
    "import pandas as pd"
   ]
  },
  {
   "cell_type": "code",
   "execution_count": 2,
   "id": "f2c83e1f-892f-4120-b357-87db946806c9",
   "metadata": {},
   "outputs": [],
   "source": [
    "df = pd.read_excel('NCAA_MM_Results.xlsx')"
   ]
  },
  {
   "cell_type": "code",
   "execution_count": 3,
   "id": "1f68ae11-20c5-4d55-abc7-799520c0b543",
   "metadata": {},
   "outputs": [
    {
     "data": {
      "text/html": [
       "<div>\n",
       "<style scoped>\n",
       "    .dataframe tbody tr th:only-of-type {\n",
       "        vertical-align: middle;\n",
       "    }\n",
       "\n",
       "    .dataframe tbody tr th {\n",
       "        vertical-align: top;\n",
       "    }\n",
       "\n",
       "    .dataframe thead th {\n",
       "        text-align: right;\n",
       "    }\n",
       "</style>\n",
       "<table border=\"1\" class=\"dataframe\">\n",
       "  <thead>\n",
       "    <tr style=\"text-align: right;\">\n",
       "      <th></th>\n",
       "      <th>DATE</th>\n",
       "      <th>TEAM</th>\n",
       "      <th>CONF.</th>\n",
       "      <th>OPP.</th>\n",
       "      <th>RESULT</th>\n",
       "      <th>SCORE</th>\n",
       "      <th>YEAR</th>\n",
       "    </tr>\n",
       "  </thead>\n",
       "  <tbody>\n",
       "    <tr>\n",
       "      <th>0</th>\n",
       "      <td>2016-03-15</td>\n",
       "      <td>Vanderbilt</td>\n",
       "      <td>SEC</td>\n",
       "      <td>Wichita St.</td>\n",
       "      <td>L</td>\n",
       "      <td>70-50</td>\n",
       "      <td>2016</td>\n",
       "    </tr>\n",
       "    <tr>\n",
       "      <th>1</th>\n",
       "      <td>2016-03-15</td>\n",
       "      <td>Fairleigh Dickinson</td>\n",
       "      <td>NEC</td>\n",
       "      <td>Florida Gulf Coast</td>\n",
       "      <td>L</td>\n",
       "      <td>96-65</td>\n",
       "      <td>2016</td>\n",
       "    </tr>\n",
       "    <tr>\n",
       "      <th>2</th>\n",
       "      <td>2016-03-16</td>\n",
       "      <td>Southern</td>\n",
       "      <td>SWAC</td>\n",
       "      <td>Holy Cross</td>\n",
       "      <td>L</td>\n",
       "      <td>59-55</td>\n",
       "      <td>2016</td>\n",
       "    </tr>\n",
       "    <tr>\n",
       "      <th>3</th>\n",
       "      <td>2016-03-16</td>\n",
       "      <td>Tulsa</td>\n",
       "      <td>Amer</td>\n",
       "      <td>Michigan</td>\n",
       "      <td>L</td>\n",
       "      <td>67-62</td>\n",
       "      <td>2016</td>\n",
       "    </tr>\n",
       "    <tr>\n",
       "      <th>4</th>\n",
       "      <td>2016-03-17</td>\n",
       "      <td>Austin Peay</td>\n",
       "      <td>OVC</td>\n",
       "      <td>Kansas</td>\n",
       "      <td>L</td>\n",
       "      <td>105-79</td>\n",
       "      <td>2016</td>\n",
       "    </tr>\n",
       "  </tbody>\n",
       "</table>\n",
       "</div>"
      ],
      "text/plain": [
       "        DATE                 TEAM CONF.                OPP. RESULT    SCORE  \\\n",
       "0 2016-03-15           Vanderbilt   SEC         Wichita St.      L    70-50   \n",
       "1 2016-03-15  Fairleigh Dickinson   NEC  Florida Gulf Coast      L    96-65   \n",
       "2 2016-03-16             Southern  SWAC          Holy Cross      L    59-55   \n",
       "3 2016-03-16                Tulsa  Amer            Michigan      L    67-62   \n",
       "4 2016-03-17          Austin Peay   OVC              Kansas      L   105-79   \n",
       "\n",
       "   YEAR  \n",
       "0  2016  \n",
       "1  2016  \n",
       "2  2016  \n",
       "3  2016  \n",
       "4  2016  "
      ]
     },
     "execution_count": 3,
     "metadata": {},
     "output_type": "execute_result"
    }
   ],
   "source": [
    "df.head()"
   ]
  },
  {
   "cell_type": "code",
   "execution_count": 4,
   "id": "955af24c-4910-4c67-a162-2ab01c31dab5",
   "metadata": {},
   "outputs": [
    {
     "data": {
      "text/plain": [
       "467"
      ]
     },
     "execution_count": 4,
     "metadata": {},
     "output_type": "execute_result"
    }
   ],
   "source": [
    "len(df)"
   ]
  },
  {
   "cell_type": "code",
   "execution_count": 5,
   "id": "6634f98d-c58b-4b79-8d9b-f79f2a7ee909",
   "metadata": {},
   "outputs": [
    {
     "data": {
      "text/plain": [
       "Index(['DATE', 'TEAM', 'CONF.', 'OPP.', 'RESULT', 'SCORE', 'YEAR'], dtype='object')"
      ]
     },
     "execution_count": 5,
     "metadata": {},
     "output_type": "execute_result"
    }
   ],
   "source": [
    "df.columns"
   ]
  },
  {
   "cell_type": "code",
   "execution_count": 6,
   "id": "2a10962e-b85a-4f7f-855e-44dd170cc159",
   "metadata": {},
   "outputs": [],
   "source": [
    "df.to_csv('NCAA_MM_Results.csv')"
   ]
  },
  {
   "cell_type": "code",
   "execution_count": null,
   "id": "d2c54d7f-f083-4df6-9aa5-5c3fe0471422",
   "metadata": {},
   "outputs": [],
   "source": []
  }
 ],
 "metadata": {
  "kernelspec": {
   "display_name": "Python 3 (ipykernel)",
   "language": "python",
   "name": "python3"
  },
  "language_info": {
   "codemirror_mode": {
    "name": "ipython",
    "version": 3
   },
   "file_extension": ".py",
   "mimetype": "text/x-python",
   "name": "python",
   "nbconvert_exporter": "python",
   "pygments_lexer": "ipython3",
   "version": "3.10.8"
  }
 },
 "nbformat": 4,
 "nbformat_minor": 5
}
